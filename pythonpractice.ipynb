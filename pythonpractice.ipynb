{
 "cells": [
  {
   "cell_type": "code",
   "execution_count": 1,
   "id": "24785759-98ea-4e6c-b17e-f397c5b64fbb",
   "metadata": {},
   "outputs": [],
   "source": [
    "import sys\n",
    "import keyword\n",
    "import operator\n",
    "from datetime import datetime\n",
    "import os"
   ]
  },
  {
   "cell_type": "markdown",
   "id": "472b23b0-e5d8-4b62-831e-9ed77caea0b6",
   "metadata": {},
   "source": [
    "# string opreations "
   ]
  },
  {
   "cell_type": "code",
   "execution_count": 5,
   "id": "0f41c6ae-8264-41d5-9a97-28bea2953cfd",
   "metadata": {},
   "outputs": [
    {
     "name": "stdout",
     "output_type": "stream",
     "text": [
      "heloo python\n"
     ]
    }
   ],
   "source": [
    "print(\"heloo python\")"
   ]
  },
  {
   "cell_type": "markdown",
   "id": "6d97e2ee-258d-44a1-868f-3fb83c380770",
   "metadata": {},
   "source": [
    "## HELLO PYTHON "
   ]
  },
  {
   "cell_type": "code",
   "execution_count": 12,
   "id": "d4a005ce-4944-40b5-8e06-16c0d32c10c8",
   "metadata": {},
   "outputs": [
    {
     "name": "stdout",
     "output_type": "stream",
     "text": [
      "HELLO PYTHON \n"
     ]
    }
   ],
   "source": [
    "str_1 = \"HELLO PYTHON \"\n",
    "print(str_1)"
   ]
  },
  {
   "cell_type": "code",
   "execution_count": 14,
   "id": "a9356b93-6f5f-4f43-aae0-6f42d41c3ba3",
   "metadata": {},
   "outputs": [
    {
     "data": {
      "text/plain": [
       "' vinay  vinay  vinay  vinay  vinay '"
      ]
     },
     "execution_count": 14,
     "metadata": {},
     "output_type": "execute_result"
    }
   ],
   "source": [
    "str_2 = \" vinay \"\n",
    "str_2 = str_2*5\n",
    "str_2"
   ]
  },
  {
   "cell_type": "code",
   "execution_count": 19,
   "id": "8e3048c6-c00d-44b7-b7c1-054d4c051194",
   "metadata": {},
   "outputs": [
    {
     "data": {
      "text/plain": [
       "35"
      ]
     },
     "execution_count": 19,
     "metadata": {},
     "output_type": "execute_result"
    }
   ],
   "source": [
    "# length of string we can fimd \n",
    "len(str_2)"
   ]
  },
  {
   "cell_type": "markdown",
   "id": "5ff95e36-7e0c-4aad-b69c-eab152e4c50c",
   "metadata": {},
   "source": [
    "# string indexing "
   ]
  },
  {
   "cell_type": "code",
   "execution_count": null,
   "id": "6089b7c2-9976-4575-8aa6-30f50c3a8e1c",
   "metadata": {},
   "outputs": [],
   "source": [
    "#  0 1 2 3 4 5 6 7 8 9 10 11\n",
    "## h e l l o   p y t h o  n \n",
    "#             "
   ]
  },
  {
   "cell_type": "code",
   "execution_count": 23,
   "id": "eeebd6a5-ee37-43de-92ee-e82be9dbcebc",
   "metadata": {},
   "outputs": [
    {
     "data": {
      "text/plain": [
       "'HELLO PYTHON '"
      ]
     },
     "execution_count": 23,
     "metadata": {},
     "output_type": "execute_result"
    }
   ],
   "source": [
    "str_1"
   ]
  },
  {
   "cell_type": "code",
   "execution_count": 25,
   "id": "53b782d8-0e43-4dec-9741-1fa5c9796b66",
   "metadata": {},
   "outputs": [
    {
     "data": {
      "text/plain": [
       "'H'"
      ]
     },
     "execution_count": 25,
     "metadata": {},
     "output_type": "execute_result"
    }
   ],
   "source": [
    "str_1[0]"
   ]
  },
  {
   "cell_type": "code",
   "execution_count": 27,
   "id": "5d3c6dae-fbff-414a-97bb-c1fa2ef58e2b",
   "metadata": {},
   "outputs": [
    {
     "data": {
      "text/plain": [
       "'L'"
      ]
     },
     "execution_count": 27,
     "metadata": {},
     "output_type": "execute_result"
    }
   ],
   "source": [
    "str_1[2:3]"
   ]
  },
  {
   "cell_type": "code",
   "execution_count": 31,
   "id": "44b55813-3415-4978-8a78-ba8a7000503c",
   "metadata": {},
   "outputs": [
    {
     "data": {
      "text/plain": [
       "'HELLO '"
      ]
     },
     "execution_count": 31,
     "metadata": {},
     "output_type": "execute_result"
    }
   ],
   "source": [
    "str_1[0:6]"
   ]
  },
  {
   "cell_type": "markdown",
   "id": "d75d7a48-5262-4902-8ec5-b3d424d2cfb4",
   "metadata": {},
   "source": [
    "# iterating through the strings"
   ]
  },
  {
   "cell_type": "code",
   "execution_count": 36,
   "id": "97853fb5-d949-45c7-adee-942585ce00f2",
   "metadata": {},
   "outputs": [
    {
     "name": "stdout",
     "output_type": "stream",
     "text": [
      "H\n",
      "E\n",
      "L\n",
      "L\n",
      "O\n",
      " \n",
      "P\n",
      "Y\n",
      "T\n",
      "H\n",
      "O\n",
      "N\n",
      " \n"
     ]
    }
   ],
   "source": [
    "for i in str_1:\n",
    "    print(i)"
   ]
  },
  {
   "cell_type": "code",
   "execution_count": 40,
   "id": "10e3ef96-e3f0-4b46-bb15-78d7e9c33873",
   "metadata": {},
   "outputs": [
    {
     "name": "stdout",
     "output_type": "stream",
     "text": [
      "(0, 'H')\n",
      "(1, 'E')\n",
      "(2, 'L')\n",
      "(3, 'L')\n",
      "(4, 'O')\n",
      "(5, ' ')\n",
      "(6, 'P')\n",
      "(7, 'Y')\n",
      "(8, 'T')\n",
      "(9, 'H')\n",
      "(10, 'O')\n",
      "(11, 'N')\n",
      "(12, ' ')\n"
     ]
    }
   ],
   "source": [
    "\n",
    "for i in enumerate(str_1):\n",
    "    print(i)"
   ]
  },
  {
   "cell_type": "markdown",
   "id": "57be013f-758a-4a92-89fb-770a5b18eecd",
   "metadata": {},
   "source": [
    "# string functions  "
   ]
  },
  {
   "cell_type": "code",
   "execution_count": 43,
   "id": "b7ae9ad9-7fad-43e9-8bf2-6b96409e5344",
   "metadata": {},
   "outputs": [
    {
     "data": {
      "text/plain": [
       "'    vinay loves pragii    '"
      ]
     },
     "execution_count": 43,
     "metadata": {},
     "output_type": "execute_result"
    }
   ],
   "source": [
    "vinay_1 = \"    vinay loves pragii    \"\n",
    "vinay_1"
   ]
  },
  {
   "cell_type": "code",
   "execution_count": 45,
   "id": "06252a19-677e-423f-8e90-4990f431b730",
   "metadata": {},
   "outputs": [
    {
     "data": {
      "text/plain": [
       "'vinay loves pragii'"
      ]
     },
     "execution_count": 45,
     "metadata": {},
     "output_type": "execute_result"
    }
   ],
   "source": [
    "vinay_1.strip()"
   ]
  },
  {
   "cell_type": "code",
   "execution_count": 49,
   "id": "4978aea1-7b13-4a64-9e30-54346fa04ff7",
   "metadata": {},
   "outputs": [
    {
     "data": {
      "text/plain": [
       "'    vinay loves pragii'"
      ]
     },
     "execution_count": 49,
     "metadata": {},
     "output_type": "execute_result"
    }
   ],
   "source": [
    "vinay_1.rstrip()"
   ]
  },
  {
   "cell_type": "code",
   "execution_count": 51,
   "id": "0592b535-28fd-4e0c-bf4a-5e785424a2d2",
   "metadata": {},
   "outputs": [
    {
     "data": {
      "text/plain": [
       "'vinay loves pragii    '"
      ]
     },
     "execution_count": 51,
     "metadata": {},
     "output_type": "execute_result"
    }
   ],
   "source": [
    "vinay_1.lstrip()"
   ]
  },
  {
   "cell_type": "code",
   "execution_count": 15,
   "id": "42cd56f2-1a9c-45a3-92d8-86b119aa269f",
   "metadata": {},
   "outputs": [
    {
     "data": {
      "text/plain": [
       "' ***************vinay *************** desai***************'"
      ]
     },
     "execution_count": 15,
     "metadata": {},
     "output_type": "execute_result"
    }
   ],
   "source": [
    "# just example \n",
    "vinay_2 = \" ***************vinay *************** desai***************\"\n",
    "vinay_2"
   ]
  },
  {
   "cell_type": "code",
   "execution_count": 17,
   "id": "8711a8b0-ea9d-4658-bcbd-68b17275e09a",
   "metadata": {},
   "outputs": [
    {
     "data": {
      "text/plain": [
       "' ***************vinay *************** desai'"
      ]
     },
     "execution_count": 17,
     "metadata": {},
     "output_type": "execute_result"
    }
   ],
   "source": [
    "vinay_2.rstrip(\"*\")"
   ]
  },
  {
   "cell_type": "code",
   "execution_count": 19,
   "id": "7ee908db-e514-4c34-8eb9-8eebd513388a",
   "metadata": {},
   "outputs": [
    {
     "data": {
      "text/plain": [
       "' ***************vinay *************** desai'"
      ]
     },
     "execution_count": 19,
     "metadata": {},
     "output_type": "execute_result"
    }
   ],
   "source": [
    "vinay_2.strip('*')"
   ]
  },
  {
   "cell_type": "code",
   "execution_count": 21,
   "id": "8285e6fa-e7b2-4adc-bd00-0dd54126317f",
   "metadata": {},
   "outputs": [
    {
     "data": {
      "text/plain": [
       "' ***************vinay *************** desai***************'"
      ]
     },
     "execution_count": 21,
     "metadata": {},
     "output_type": "execute_result"
    }
   ],
   "source": [
    "vinay_2.lstrip(\"*\")"
   ]
  },
  {
   "cell_type": "code",
   "execution_count": 23,
   "id": "f13734d2-5f11-4aa9-bd6f-570ec45ef8c4",
   "metadata": {},
   "outputs": [
    {
     "ename": "NameError",
     "evalue": "name 'vinay_1' is not defined",
     "output_type": "error",
     "traceback": [
      "\u001b[1;31m---------------------------------------------------------------------------\u001b[0m",
      "\u001b[1;31mNameError\u001b[0m                                 Traceback (most recent call last)",
      "Cell \u001b[1;32mIn[23], line 1\u001b[0m\n\u001b[1;32m----> 1\u001b[0m \u001b[43mvinay_1\u001b[49m\n",
      "\u001b[1;31mNameError\u001b[0m: name 'vinay_1' is not defined"
     ]
    }
   ],
   "source": [
    "vinay_1"
   ]
  },
  {
   "cell_type": "code",
   "execution_count": 25,
   "id": "8e434dd2-bd3d-47b2-a39e-e7b08999f452",
   "metadata": {},
   "outputs": [
    {
     "data": {
      "text/plain": [
       "'    vinay loves pragii    '"
      ]
     },
     "execution_count": 25,
     "metadata": {},
     "output_type": "execute_result"
    }
   ],
   "source": [
    "vinay_1 = \"    vinay loves pragii    \"\n",
    "vinay_1"
   ]
  },
  {
   "cell_type": "code",
   "execution_count": 27,
   "id": "7a9fdd4d-f8d6-4205-88f4-447f252c0544",
   "metadata": {},
   "outputs": [
    {
     "data": {
      "text/plain": [
       "'    VINAY LOVES PRAGII    '"
      ]
     },
     "execution_count": 27,
     "metadata": {},
     "output_type": "execute_result"
    }
   ],
   "source": [
    "vinay_1.upper()"
   ]
  },
  {
   "cell_type": "code",
   "execution_count": 29,
   "id": "82a6a312-d695-44b3-8e9f-db744aa1157c",
   "metadata": {},
   "outputs": [
    {
     "data": {
      "text/plain": [
       "'    vinay loves pragii    '"
      ]
     },
     "execution_count": 29,
     "metadata": {},
     "output_type": "execute_result"
    }
   ],
   "source": [
    "vinay_1.lower()"
   ]
  },
  {
   "cell_type": "code",
   "execution_count": 31,
   "id": "a2615545-5055-439e-a5d9-a1126b34d8b0",
   "metadata": {},
   "outputs": [
    {
     "data": {
      "text/plain": [
       "'    vinnu loves pragii    '"
      ]
     },
     "execution_count": 31,
     "metadata": {},
     "output_type": "execute_result"
    }
   ],
   "source": [
    "vinay_1.replace(\"vinay\",\"vinnu\")"
   ]
  },
  {
   "cell_type": "code",
   "execution_count": 33,
   "id": "b63ab3a0-d3d8-45d6-b8fe-489bd31ad80e",
   "metadata": {},
   "outputs": [
    {
     "data": {
      "text/plain": [
       "'one,two,two,three,one,one,four,four,five three'"
      ]
     },
     "execution_count": 33,
     "metadata": {},
     "output_type": "execute_result"
    }
   ],
   "source": [
    "my_1= \"one,two,two,three,one,one,four,four,five three\"\n",
    "my_1"
   ]
  },
  {
   "cell_type": "code",
   "execution_count": 35,
   "id": "def7f769-844f-485e-88d2-625c19068bb6",
   "metadata": {},
   "outputs": [
    {
     "data": {
      "text/plain": [
       "3"
      ]
     },
     "execution_count": 35,
     "metadata": {},
     "output_type": "execute_result"
    }
   ],
   "source": [
    "my_1.count('one')"
   ]
  },
  {
   "cell_type": "code",
   "execution_count": 45,
   "id": "105d4776-957a-48bb-b5c2-d0055f64b5f0",
   "metadata": {},
   "outputs": [
    {
     "data": {
      "text/plain": [
       "True"
      ]
     },
     "execution_count": 45,
     "metadata": {},
     "output_type": "execute_result"
    }
   ],
   "source": [
    "my_1.startswith(\"one\")"
   ]
  },
  {
   "cell_type": "code",
   "execution_count": 39,
   "id": "3bfdaa5c-c9b5-4b30-a4f1-17d4de3f1d0e",
   "metadata": {},
   "outputs": [
    {
     "data": {
      "text/plain": [
       "True"
      ]
     },
     "execution_count": 39,
     "metadata": {},
     "output_type": "execute_result"
    }
   ],
   "source": [
    "my_1.endswith(\"three\")"
   ]
  },
  {
   "cell_type": "code",
   "execution_count": 41,
   "id": "2e9ac63c-3ff6-448f-820b-ecaf44a1a6e8",
   "metadata": {},
   "outputs": [
    {
     "data": {
      "text/plain": [
       "False"
      ]
     },
     "execution_count": 41,
     "metadata": {},
     "output_type": "execute_result"
    }
   ],
   "source": [
    "my_1.endswith(\"two\")"
   ]
  },
  {
   "cell_type": "code",
   "execution_count": 47,
   "id": "fedc14d7-ae84-4793-94cb-d34eafb4d108",
   "metadata": {},
   "outputs": [
    {
     "data": {
      "text/plain": [
       "['one,two,two,three,one,one,four,four,five', 'three']"
      ]
     },
     "execution_count": 47,
     "metadata": {},
     "output_type": "execute_result"
    }
   ],
   "source": [
    "mylist = my_1.split()\n",
    "mylist"
   ]
  },
  {
   "cell_type": "code",
   "execution_count": 54,
   "id": "c9af87f9-bfc2-4dff-a386-a490fc8c85f4",
   "metadata": {},
   "outputs": [
    {
     "data": {
      "text/plain": [
       "'one two three four one two two three five five six seven six seven one '"
      ]
     },
     "execution_count": 54,
     "metadata": {},
     "output_type": "execute_result"
    }
   ],
   "source": [
    "my_2 = \"one two three four one two two three five five six seven six seven one \"\n",
    "my_2"
   ]
  },
  {
   "cell_type": "code",
   "execution_count": 56,
   "id": "2864289f-08ef-4f30-bd96-4c6f0d9e8855",
   "metadata": {},
   "outputs": [
    {
     "data": {
      "text/plain": [
       "['one',\n",
       " 'two',\n",
       " 'three',\n",
       " 'four',\n",
       " 'one',\n",
       " 'two',\n",
       " 'two',\n",
       " 'three',\n",
       " 'five',\n",
       " 'five',\n",
       " 'six',\n",
       " 'seven',\n",
       " 'six',\n",
       " 'seven',\n",
       " 'one']"
      ]
     },
     "execution_count": 56,
     "metadata": {},
     "output_type": "execute_result"
    }
   ],
   "source": [
    "mylist = my_2.split()\n",
    "mylist"
   ]
  },
  {
   "cell_type": "code",
   "execution_count": 60,
   "id": "9582ac2e-1fe7-42aa-90f7-5813cd31d7c7",
   "metadata": {},
   "outputs": [
    {
     "name": "stdin",
     "output_type": "stream",
     "text": [
      "enter the number 12\n"
     ]
    },
    {
     "name": "stdout",
     "output_type": "stream",
     "text": [
      "12\n"
     ]
    }
   ],
   "source": [
    "pragi_1= int(input(\"enter the number\"))\n",
    "print(pragi_1)"
   ]
  },
  {
   "cell_type": "code",
   "execution_count": null,
   "id": "478f7040-7fc5-458b-bcd1-6e1865027294",
   "metadata": {},
   "outputs": [],
   "source": [
    "pragi_1= int(input(\"enter the number\"))\n",
    "if (num>18)"
   ]
  }
 ],
 "metadata": {
  "kernelspec": {
   "display_name": "Python 3 (ipykernel)",
   "language": "python",
   "name": "python3"
  },
  "language_info": {
   "codemirror_mode": {
    "name": "ipython",
    "version": 3
   },
   "file_extension": ".py",
   "mimetype": "text/x-python",
   "name": "python",
   "nbconvert_exporter": "python",
   "pygments_lexer": "ipython3",
   "version": "3.12.4"
  }
 },
 "nbformat": 4,
 "nbformat_minor": 5
}
